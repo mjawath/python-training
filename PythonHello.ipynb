{
  "nbformat": 4,
  "nbformat_minor": 0,
  "metadata": {
    "colab": {
      "provenance": [],
      "authorship_tag": "ABX9TyPPqwtqr7loYA1g84j4r15p",
      "include_colab_link": true
    },
    "kernelspec": {
      "name": "python3",
      "display_name": "Python 3"
    },
    "language_info": {
      "name": "python"
    }
  },
  "cells": [
    {
      "cell_type": "markdown",
      "metadata": {
        "id": "view-in-github",
        "colab_type": "text"
      },
      "source": [
        "<a href=\"https://colab.research.google.com/github/mjawath/python-training/blob/main/PythonHello.ipynb\" target=\"_parent\"><img src=\"https://colab.research.google.com/assets/colab-badge.svg\" alt=\"Open In Colab\"/></a>"
      ]
    },
    {
      "cell_type": "code",
      "execution_count": null,
      "metadata": {
        "id": "SIJkHMKqtQsB"
      },
      "outputs": [],
      "source": [
        "print(\"Hello\")"
      ]
    },
    {
      "cell_type": "markdown",
      "source": [
        "define a list"
      ],
      "metadata": {
        "id": "D_fUclJhw45U"
      }
    },
    {
      "cell_type": "code",
      "source": [
        "aList=[\"one\",\"two\"]"
      ],
      "metadata": {
        "id": "3x5q-F0iwlW1"
      },
      "execution_count": 2,
      "outputs": []
    },
    {
      "cell_type": "markdown",
      "source": [
        "first item in the list"
      ],
      "metadata": {
        "id": "2yNyjYWcwl1j"
      }
    },
    {
      "cell_type": "code",
      "source": [
        "aList[0]"
      ],
      "metadata": {
        "colab": {
          "base_uri": "https://localhost:8080/",
          "height": 36
        },
        "id": "QAx8YB76wxOK",
        "outputId": "3fb39af8-fb40-4884-cf0a-6d84400fe3bb"
      },
      "execution_count": 3,
      "outputs": [
        {
          "output_type": "execute_result",
          "data": {
            "text/plain": [
              "'one'"
            ],
            "application/vnd.google.colaboratory.intrinsic+json": {
              "type": "string"
            }
          },
          "metadata": {},
          "execution_count": 3
        }
      ]
    },
    {
      "cell_type": "code",
      "source": [],
      "metadata": {
        "id": "70I9qwkFw3ZG"
      },
      "execution_count": null,
      "outputs": []
    }
  ]
}